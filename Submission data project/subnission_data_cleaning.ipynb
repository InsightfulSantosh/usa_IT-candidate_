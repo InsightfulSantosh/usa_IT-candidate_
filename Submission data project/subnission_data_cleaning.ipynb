{
  "nbformat": 4,
  "nbformat_minor": 0,
  "metadata": {
    "colab": {
      "provenance": []
    },
    "kernelspec": {
      "name": "python3",
      "display_name": "Python 3"
    },
    "language_info": {
      "name": "python"
    }
  },
  "cells": [
    {
      "cell_type": "code",
      "execution_count": null,
      "metadata": {
        "id": "WLnq2Bm8tbBL"
      },
      "outputs": [],
      "source": [
        "import pandas as pd\n",
        "import numpy as np"
      ]
    },
    {
      "cell_type": "code",
      "source": [
        "df=pd.read_csv(\"/content/Submission details.csv - Sheet1 (2).csv\")"
      ],
      "metadata": {
        "id": "aReyZGFCtfUf"
      },
      "execution_count": null,
      "outputs": []
    },
    {
      "cell_type": "code",
      "source": [
        "df.columns=df.columns.str.lower()"
      ],
      "metadata": {
        "id": "T-41TVNStz3x"
      },
      "execution_count": null,
      "outputs": []
    },
    {
      "cell_type": "code",
      "source": [
        "df.info()"
      ],
      "metadata": {
        "colab": {
          "base_uri": "https://localhost:8080/"
        },
        "id": "_XE_1BzIumSO",
        "outputId": "9d9d7518-654c-48cc-c905-366ef2eb97f6"
      },
      "execution_count": null,
      "outputs": [
        {
          "output_type": "stream",
          "name": "stdout",
          "text": [
            "<class 'pandas.core.frame.DataFrame'>\n",
            "RangeIndex: 290 entries, 0 to 289\n",
            "Data columns (total 8 columns):\n",
            " #   Column           Non-Null Count  Dtype \n",
            "---  ------           --------------  ----- \n",
            " 0   name             290 non-null    object\n",
            " 1   contact no       290 non-null    object\n",
            " 2   email id         290 non-null    object\n",
            " 3   title            290 non-null    object\n",
            " 4   visa             289 non-null    object\n",
            " 5   location         290 non-null    object\n",
            " 6   linkedin         256 non-null    object\n",
            " 7   submission date  290 non-null    object\n",
            "dtypes: object(8)\n",
            "memory usage: 18.2+ KB\n"
          ]
        }
      ]
    },
    {
      "cell_type": "code",
      "source": [
        "\n",
        "def lower_case(ser):\n",
        "    ser= ser.str.lower().str.strip()\n",
        "    return ser\n",
        "\n"
      ],
      "metadata": {
        "id": "AXRfcg1-uBj3"
      },
      "execution_count": null,
      "outputs": []
    },
    {
      "cell_type": "code",
      "source": [
        "df.rename(columns={'contact no':'contact_no'},inplace=True)\n",
        "df.rename(columns={'email id':'email_id'},inplace=True)"
      ],
      "metadata": {
        "id": "8O7R1x7_0x_K"
      },
      "execution_count": null,
      "outputs": []
    },
    {
      "cell_type": "code",
      "source": [
        "df.name=lower_case(df.name)"
      ],
      "metadata": {
        "id": "uaZ8fuFDvGH0"
      },
      "execution_count": null,
      "outputs": []
    },
    {
      "cell_type": "code",
      "source": [
        "df=df.assign(\n",
        "    contact_no = df['contact_no'].\n",
        "    str.replace(r'[^0-9]', '', regex=True)\n",
        "    .str.strip()\n",
        "    )\n"
      ],
      "metadata": {
        "id": "VKOY1_HWvQp0"
      },
      "execution_count": null,
      "outputs": []
    },
    {
      "cell_type": "code",
      "source": [
        "df.contact_no=pd.to_numeric(df.contact_no, errors='coerce').fillna(0).astype('int64')\n"
      ],
      "metadata": {
        "id": "VScm58zn2CWm"
      },
      "execution_count": null,
      "outputs": []
    },
    {
      "cell_type": "code",
      "source": [
        "df.email_id=lower_case(df.email_id)"
      ],
      "metadata": {
        "id": "x6W27Phb3M29"
      },
      "execution_count": null,
      "outputs": []
    },
    {
      "cell_type": "code",
      "source": [
        "df.title=lower_case(df.title)"
      ],
      "metadata": {
        "id": "zFrqpySf6EuC"
      },
      "execution_count": null,
      "outputs": []
    },
    {
      "cell_type": "code",
      "source": [
        "df.visa=lower_case(df.visa)"
      ],
      "metadata": {
        "id": "M6v9q-TF6N2e"
      },
      "execution_count": null,
      "outputs": []
    },
    {
      "cell_type": "code",
      "source": [
        "index=df.visa[df.visa.str.contains('h1', na=False)].str.replace('-', '', regex=True).index"
      ],
      "metadata": {
        "id": "IQDo5YUp6YkO"
      },
      "execution_count": null,
      "outputs": []
    },
    {
      "cell_type": "code",
      "source": [
        "df.visa.iloc[index]='h1b'"
      ],
      "metadata": {
        "colab": {
          "base_uri": "https://localhost:8080/"
        },
        "id": "ZIiVzxPK_jUc",
        "outputId": "f700c960-8162-49a6-9795-fac8cf7aa425"
      },
      "execution_count": null,
      "outputs": [
        {
          "output_type": "stream",
          "name": "stderr",
          "text": [
            "<ipython-input-153-bbc409afd257>:1: SettingWithCopyWarning: \n",
            "A value is trying to be set on a copy of a slice from a DataFrame\n",
            "\n",
            "See the caveats in the documentation: https://pandas.pydata.org/pandas-docs/stable/user_guide/indexing.html#returning-a-view-versus-a-copy\n",
            "  df.visa.iloc[index]='h1b'\n"
          ]
        }
      ]
    },
    {
      "cell_type": "code",
      "source": [
        "index2=df.visa[df.visa.str.contains('us', na=False)].str.replace('-', '', regex=True).index\n",
        "df.visa.iloc[index2]='usc'"
      ],
      "metadata": {
        "colab": {
          "base_uri": "https://localhost:8080/"
        },
        "id": "km1jjH_W-8yr",
        "outputId": "13b42082-a738-4939-c448-f87d4f1ffb02"
      },
      "execution_count": null,
      "outputs": [
        {
          "output_type": "stream",
          "name": "stderr",
          "text": [
            "<ipython-input-154-2b16a4f21e33>:2: SettingWithCopyWarning: \n",
            "A value is trying to be set on a copy of a slice from a DataFrame\n",
            "\n",
            "See the caveats in the documentation: https://pandas.pydata.org/pandas-docs/stable/user_guide/indexing.html#returning-a-view-versus-a-copy\n",
            "  df.visa.iloc[index2]='usc'\n"
          ]
        }
      ]
    },
    {
      "cell_type": "code",
      "source": [
        "index3=df.visa[df.visa.str.contains('u.s', na=False)].str.replace('-', '', regex=True).index\n",
        "df.visa.iloc[index3]='usc'"
      ],
      "metadata": {
        "colab": {
          "base_uri": "https://localhost:8080/"
        },
        "id": "tv991iLcAYlb",
        "outputId": "2e6610cd-a6f9-4502-c2de-b8d768d1c051"
      },
      "execution_count": null,
      "outputs": [
        {
          "output_type": "stream",
          "name": "stderr",
          "text": [
            "<ipython-input-155-4075013503ce>:2: SettingWithCopyWarning: \n",
            "A value is trying to be set on a copy of a slice from a DataFrame\n",
            "\n",
            "See the caveats in the documentation: https://pandas.pydata.org/pandas-docs/stable/user_guide/indexing.html#returning-a-view-versus-a-copy\n",
            "  df.visa.iloc[index3]='usc'\n"
          ]
        }
      ]
    },
    {
      "cell_type": "code",
      "source": [
        "index4=df.visa[df.visa.str.contains('green', na=False)].str.replace('-', '', regex=True).index\n",
        "df.visa.iloc[index4]='gc'"
      ],
      "metadata": {
        "colab": {
          "base_uri": "https://localhost:8080/"
        },
        "id": "DmRH6MF8AlDV",
        "outputId": "ee5e758b-6055-486c-c883-7b3c91fcd128"
      },
      "execution_count": null,
      "outputs": [
        {
          "output_type": "stream",
          "name": "stderr",
          "text": [
            "<ipython-input-156-e5206ab303cd>:2: SettingWithCopyWarning: \n",
            "A value is trying to be set on a copy of a slice from a DataFrame\n",
            "\n",
            "See the caveats in the documentation: https://pandas.pydata.org/pandas-docs/stable/user_guide/indexing.html#returning-a-view-versus-a-copy\n",
            "  df.visa.iloc[index4]='gc'\n"
          ]
        }
      ]
    },
    {
      "cell_type": "code",
      "source": [
        "index5=df.visa[df.visa.str.contains('opt', na=False)].str.replace('-', '', regex=True).index\n",
        "df.visa.iloc[index5]='opt'"
      ],
      "metadata": {
        "colab": {
          "base_uri": "https://localhost:8080/"
        },
        "id": "MwTDTwlDA7zS",
        "outputId": "dddb9ccc-2e94-491a-9388-ff1588c93f31"
      },
      "execution_count": null,
      "outputs": [
        {
          "output_type": "stream",
          "name": "stderr",
          "text": [
            "<ipython-input-157-6a5fcc31f73b>:2: SettingWithCopyWarning: \n",
            "A value is trying to be set on a copy of a slice from a DataFrame\n",
            "\n",
            "See the caveats in the documentation: https://pandas.pydata.org/pandas-docs/stable/user_guide/indexing.html#returning-a-view-versus-a-copy\n",
            "  df.visa.iloc[index5]='opt'\n"
          ]
        }
      ]
    },
    {
      "cell_type": "code",
      "source": [
        "index6=df.visa[df.visa.str.contains('h4', na=False)].str.replace('-', '', regex=True).index\n",
        "df.visa.iloc[index6]='h4-ead'"
      ],
      "metadata": {
        "colab": {
          "base_uri": "https://localhost:8080/"
        },
        "id": "0EpwnR24BFdA",
        "outputId": "13036c17-1da4-4499-c80f-ad021ec6929c"
      },
      "execution_count": null,
      "outputs": [
        {
          "output_type": "stream",
          "name": "stderr",
          "text": [
            "<ipython-input-158-901041969378>:2: SettingWithCopyWarning: \n",
            "A value is trying to be set on a copy of a slice from a DataFrame\n",
            "\n",
            "See the caveats in the documentation: https://pandas.pydata.org/pandas-docs/stable/user_guide/indexing.html#returning-a-view-versus-a-copy\n",
            "  df.visa.iloc[index6]='h4-ead'\n"
          ]
        }
      ]
    },
    {
      "cell_type": "code",
      "source": [
        "index7=df.visa[df.visa.str.contains('citizen', na=False)].str.replace('-', '', regex=True).index\n",
        "df.visa.iloc[index7]='tn'"
      ],
      "metadata": {
        "colab": {
          "base_uri": "https://localhost:8080/"
        },
        "id": "yzcQsSVGBbV4",
        "outputId": "b2d51fad-973c-4f7f-8b6b-f2709667ccf7"
      },
      "execution_count": null,
      "outputs": [
        {
          "output_type": "stream",
          "name": "stderr",
          "text": [
            "<ipython-input-159-71c88d9fd357>:2: SettingWithCopyWarning: \n",
            "A value is trying to be set on a copy of a slice from a DataFrame\n",
            "\n",
            "See the caveats in the documentation: https://pandas.pydata.org/pandas-docs/stable/user_guide/indexing.html#returning-a-view-versus-a-copy\n",
            "  df.visa.iloc[index7]='tn'\n"
          ]
        }
      ]
    },
    {
      "cell_type": "code",
      "source": [
        "df.visa.value_counts()"
      ],
      "metadata": {
        "colab": {
          "base_uri": "https://localhost:8080/",
          "height": 429
        },
        "id": "x_PaNTskANTr",
        "outputId": "6c24e13b-3e2b-4b94-ff94-2a9b44c155e4"
      },
      "execution_count": null,
      "outputs": [
        {
          "output_type": "execute_result",
          "data": {
            "text/plain": [
              "visa\n",
              "usc       100\n",
              "h1b        91\n",
              "gc         52\n",
              "opt        12\n",
              "tn         12\n",
              "h4-ead     10\n",
              "gc-ead      7\n",
              "l2          3\n",
              "cpt         1\n",
              "chile       1\n",
              "Name: count, dtype: int64"
            ],
            "text/html": [
              "<div>\n",
              "<style scoped>\n",
              "    .dataframe tbody tr th:only-of-type {\n",
              "        vertical-align: middle;\n",
              "    }\n",
              "\n",
              "    .dataframe tbody tr th {\n",
              "        vertical-align: top;\n",
              "    }\n",
              "\n",
              "    .dataframe thead th {\n",
              "        text-align: right;\n",
              "    }\n",
              "</style>\n",
              "<table border=\"1\" class=\"dataframe\">\n",
              "  <thead>\n",
              "    <tr style=\"text-align: right;\">\n",
              "      <th></th>\n",
              "      <th>count</th>\n",
              "    </tr>\n",
              "    <tr>\n",
              "      <th>visa</th>\n",
              "      <th></th>\n",
              "    </tr>\n",
              "  </thead>\n",
              "  <tbody>\n",
              "    <tr>\n",
              "      <th>usc</th>\n",
              "      <td>100</td>\n",
              "    </tr>\n",
              "    <tr>\n",
              "      <th>h1b</th>\n",
              "      <td>91</td>\n",
              "    </tr>\n",
              "    <tr>\n",
              "      <th>gc</th>\n",
              "      <td>52</td>\n",
              "    </tr>\n",
              "    <tr>\n",
              "      <th>opt</th>\n",
              "      <td>12</td>\n",
              "    </tr>\n",
              "    <tr>\n",
              "      <th>tn</th>\n",
              "      <td>12</td>\n",
              "    </tr>\n",
              "    <tr>\n",
              "      <th>h4-ead</th>\n",
              "      <td>10</td>\n",
              "    </tr>\n",
              "    <tr>\n",
              "      <th>gc-ead</th>\n",
              "      <td>7</td>\n",
              "    </tr>\n",
              "    <tr>\n",
              "      <th>l2</th>\n",
              "      <td>3</td>\n",
              "    </tr>\n",
              "    <tr>\n",
              "      <th>cpt</th>\n",
              "      <td>1</td>\n",
              "    </tr>\n",
              "    <tr>\n",
              "      <th>chile</th>\n",
              "      <td>1</td>\n",
              "    </tr>\n",
              "  </tbody>\n",
              "</table>\n",
              "</div><br><label><b>dtype:</b> int64</label>"
            ]
          },
          "metadata": {},
          "execution_count": 160
        }
      ]
    },
    {
      "cell_type": "code",
      "source": [
        "df['location']=df['location'].transform(lower_case)\n",
        "df=df.assign(state=\n",
        "    df['location']\n",
        "    .str.replace(r'[^\\w\\s]', ' ', regex=True)  # Replace symbols with spaces\n",
        "    .str.strip()                              # Remove leading and trailing spaces\n",
        "    .apply(lambda x: x.split())               # Split the string by spaces\n",
        "    .apply(lambda x: x[-1] if len(x) > 0 else '')  # Get the last element from the list\n",
        "                              # Count the occurrences of the last elements\n",
        ")\n"
      ],
      "metadata": {
        "id": "BTsji_dYBo1x"
      },
      "execution_count": null,
      "outputs": []
    },
    {
      "cell_type": "code",
      "source": [
        "# Move 'new_column' to position 1 (second column)\n",
        "df.insert(6, 'state', df.pop('state'))\n"
      ],
      "metadata": {
        "id": "tlKIovKhIkLy"
      },
      "execution_count": null,
      "outputs": []
    },
    {
      "cell_type": "code",
      "source": [
        "df['location']=(\n",
        "    df['location']\n",
        "    .str.replace(r'[^\\w\\s]', ' ', regex=True)  # Replace symbols with spaces\n",
        "    .str.strip()                              # Remove leading and trailing spaces\n",
        "    .apply(lambda x: x.split())               # Split the string by spaces\n",
        "    .apply(lambda x: x[:-1])\n",
        "    .str.join(\",\")\n",
        "\n",
        "                           # Count the occurrences of the last elements\n",
        ")"
      ],
      "metadata": {
        "id": "R41DlvicJDOT"
      },
      "execution_count": null,
      "outputs": []
    },
    {
      "cell_type": "code",
      "source": [
        "df.location=df.location.str.split(\",\").apply(lambda x: tuple(x[:-1]) if x[-1] ==\"new\" else tuple(x)).str.join(\",\").str.replace(\",\",\" \").str.strip()"
      ],
      "metadata": {
        "id": "uZpcuSktIM8K"
      },
      "execution_count": null,
      "outputs": []
    },
    {
      "cell_type": "code",
      "source": [
        "df['state'] = df['state'].str.replace(\"az\",\"arizona\") # Remove inplace=True and assign the result back to df['state']"
      ],
      "metadata": {
        "id": "kZKm0_hlRa9h"
      },
      "execution_count": null,
      "outputs": []
    },
    {
      "cell_type": "code",
      "source": [
        "df['state'] = df['state'].str.replace(\"nj\",\"new jesery\") # Remove inplace=True and assign the result back to df['state']"
      ],
      "metadata": {
        "id": "QQYvxy4VYZtR"
      },
      "execution_count": null,
      "outputs": []
    },
    {
      "cell_type": "code",
      "source": [
        "df['state'] = df['state'].str.replace(\"tx\",\"texas\") # Remove inplace=True and assign the result back to df['state']"
      ],
      "metadata": {
        "id": "wj_07WKfYgk4"
      },
      "execution_count": null,
      "outputs": []
    },
    {
      "cell_type": "code",
      "source": [
        "df.state.where(df.state!=\"new jesery\",\"new jersey\",inplace=True)"
      ],
      "metadata": {
        "id": "0Or4QdfcFx24"
      },
      "execution_count": null,
      "outputs": []
    },
    {
      "cell_type": "code",
      "source": [
        "df.state = df.state.where(df.state != \"ca\", \"california\")"
      ],
      "metadata": {
        "id": "RP3Hvw6HGKKd"
      },
      "execution_count": null,
      "outputs": []
    },
    {
      "cell_type": "code",
      "source": [
        "df.state = df.state.where(df.state != \"ga\", \"georgia\")"
      ],
      "metadata": {
        "id": "6WpKtOTGGiwM"
      },
      "execution_count": null,
      "outputs": []
    },
    {
      "cell_type": "code",
      "source": [
        "df.state = df.state.where(df.state != \"il\", \"illinois\")"
      ],
      "metadata": {
        "id": "yLQi8BH6G3Wj"
      },
      "execution_count": null,
      "outputs": []
    },
    {
      "cell_type": "code",
      "source": [
        "df.state = df.state.where(df.state != \"pa\", \"pennsylvania\")"
      ],
      "metadata": {
        "id": "2yHNdyFWHEK1"
      },
      "execution_count": null,
      "outputs": []
    },
    {
      "cell_type": "code",
      "source": [
        "df.state = df.state.where(df.state != \"mi\", \"michigan\")"
      ],
      "metadata": {
        "id": "sRKymCazHKNq"
      },
      "execution_count": null,
      "outputs": []
    },
    {
      "cell_type": "code",
      "source": [
        "df.state = df.state.where(df.state != \"nc\", \"north carolina\")"
      ],
      "metadata": {
        "id": "U32D_lF5HbBh"
      },
      "execution_count": null,
      "outputs": []
    },
    {
      "cell_type": "code",
      "source": [
        "df.state = df.state.where(df.state != \"carolina\", \"north carolina\")"
      ],
      "metadata": {
        "id": "vbt677aqNM6U"
      },
      "execution_count": null,
      "outputs": []
    },
    {
      "cell_type": "code",
      "source": [
        "df.state = df.state.where(df.state != \"va\", \"virginia\")"
      ],
      "metadata": {
        "id": "P-RoWcnMHmc9"
      },
      "execution_count": null,
      "outputs": []
    },
    {
      "cell_type": "code",
      "source": [
        "df.state = df.state.where(df.state != \"ny\", \"new york\")"
      ],
      "metadata": {
        "id": "JFIm6F-KHybg"
      },
      "execution_count": null,
      "outputs": []
    },
    {
      "cell_type": "code",
      "source": [
        "df.state = df.state.where(df.state != \"wa\", \"washington\")"
      ],
      "metadata": {
        "id": "CKtlfw0MH8Bn"
      },
      "execution_count": null,
      "outputs": []
    },
    {
      "cell_type": "code",
      "source": [
        "df.state = df.state.where(df.state != \"engineer\", \"washington\")"
      ],
      "metadata": {
        "id": "vmjNY45iOapJ"
      },
      "execution_count": null,
      "outputs": []
    },
    {
      "cell_type": "code",
      "source": [
        "df.state = df.state.where(df.state != \"ma\", \"massachusetts\")"
      ],
      "metadata": {
        "id": "BOiqct6HIB1f"
      },
      "execution_count": null,
      "outputs": []
    },
    {
      "cell_type": "code",
      "source": [
        "df.state = df.state.where(df.state != \"md\", \"maryland\")"
      ],
      "metadata": {
        "id": "0qzEiyOWIJFT"
      },
      "execution_count": null,
      "outputs": []
    },
    {
      "cell_type": "code",
      "source": [
        "df.state = df.state.where(df.state != \"dc\", \"district of columbia\")"
      ],
      "metadata": {
        "id": "FeJ86sPvIezW"
      },
      "execution_count": null,
      "outputs": []
    },
    {
      "cell_type": "code",
      "source": [
        "df.state = df.state.where(df.state != \"mn\", \"minnesota\")"
      ],
      "metadata": {
        "id": "TqBfPNkWItsW"
      },
      "execution_count": null,
      "outputs": []
    },
    {
      "cell_type": "code",
      "source": [
        "df.state = df.state.where(df.state != \"fl\", \"florida\")"
      ],
      "metadata": {
        "id": "QSmfCfXFI0tH"
      },
      "execution_count": null,
      "outputs": []
    },
    {
      "cell_type": "code",
      "source": [
        "df.state = df.state.where(df.state != \"ct\", \"connecticut\")"
      ],
      "metadata": {
        "id": "jQranfraI_yP"
      },
      "execution_count": null,
      "outputs": []
    },
    {
      "cell_type": "code",
      "source": [
        "df.state = df.state.where(df.state != \"ab\", \"alberta\")"
      ],
      "metadata": {
        "id": "0OtZIdn_JLov"
      },
      "execution_count": null,
      "outputs": []
    },
    {
      "cell_type": "code",
      "source": [
        "df.state = df.state.where(df.state != \"on\", \"ontario\")"
      ],
      "metadata": {
        "id": "1d3SDYPVJWrW"
      },
      "execution_count": null,
      "outputs": []
    },
    {
      "cell_type": "code",
      "source": [
        "df.state = df.state.where(df.state != \"de\", \"delaware\")"
      ],
      "metadata": {
        "id": "EoleR6G0JfE2"
      },
      "execution_count": null,
      "outputs": []
    },
    {
      "cell_type": "code",
      "source": [
        "df.state = df.state.where(df.state != \"in\", \"indiana\")"
      ],
      "metadata": {
        "id": "QIve7xkrKJQi"
      },
      "execution_count": null,
      "outputs": []
    },
    {
      "cell_type": "code",
      "source": [
        "df.state = df.state.where(df.state != \"ks\", \"kansas\")"
      ],
      "metadata": {
        "id": "OAs39lhGKSj6"
      },
      "execution_count": null,
      "outputs": []
    },
    {
      "cell_type": "code",
      "source": [
        "df.state = df.state.where(df.state != \"city\", \"kansas\")"
      ],
      "metadata": {
        "id": "CfLTkhMVODfY"
      },
      "execution_count": null,
      "outputs": []
    },
    {
      "cell_type": "code",
      "source": [
        "df.state = df.state.where(df.state != \"mo\", \"missouri\")"
      ],
      "metadata": {
        "id": "ZK0ozDJNKVw6"
      },
      "execution_count": null,
      "outputs": []
    },
    {
      "cell_type": "code",
      "source": [
        "df.state = df.state.where(df.state != \"co\", \"colorado\")"
      ],
      "metadata": {
        "id": "lVnChzbhKc-i"
      },
      "execution_count": null,
      "outputs": []
    },
    {
      "cell_type": "code",
      "source": [
        "df.state = df.state.where(df.state != \"ky\", \"kentucky\")"
      ],
      "metadata": {
        "id": "Kz_v2LhXKlrY"
      },
      "execution_count": null,
      "outputs": []
    },
    {
      "cell_type": "code",
      "source": [
        "df.state = df.state.where(df.state != \"jersey\", \"new jersey\")"
      ],
      "metadata": {
        "id": "xbU1LEEFMvd7"
      },
      "execution_count": null,
      "outputs": []
    },
    {
      "cell_type": "code",
      "source": [
        "df.state = df.state.where(df.state != \"island\", \"rhode island\")"
      ],
      "metadata": {
        "id": "dfuXNW-eN03i"
      },
      "execution_count": null,
      "outputs": []
    },
    {
      "cell_type": "code",
      "source": [
        "#pd.set_option('display.max_rows', None) # use set_option to set max_rows to display all rows"
      ],
      "metadata": {
        "id": "Gg9tx8WrMNwX"
      },
      "execution_count": null,
      "outputs": []
    },
    {
      "cell_type": "code",
      "source": [
        "df.state.value_counts()"
      ],
      "metadata": {
        "colab": {
          "base_uri": "https://localhost:8080/",
          "height": 1000
        },
        "id": "6R4yniW8FAsZ",
        "outputId": "1145e8b2-2793-4de3-ff61-99e898549116"
      },
      "execution_count": null,
      "outputs": [
        {
          "output_type": "execute_result",
          "data": {
            "text/plain": [
              "state\n",
              "arizona                 61\n",
              "texas                   51\n",
              "new jersey              45\n",
              "california              27\n",
              "georgia                 19\n",
              "illinois                10\n",
              "michigan                 9\n",
              "pennsylvania             8\n",
              "virginia                 8\n",
              "north carolina           6\n",
              "washington               6\n",
              "maryland                 6\n",
              "new york                 4\n",
              "massachusetts            4\n",
              "district of columbia     3\n",
              "florida                  3\n",
              "connecticut              3\n",
              "kansas                   2\n",
              "mississippi              2\n",
              "minnesota                2\n",
              "ohio                     2\n",
              "alberta                  2\n",
              "delaware                 1\n",
              "ontario                  1\n",
              "rhode island             1\n",
              "colorado                 1\n",
              "indiana                  1\n",
              "missouri                 1\n",
              "kentucky                 1\n",
              "Name: count, dtype: int64"
            ],
            "text/html": [
              "<div>\n",
              "<style scoped>\n",
              "    .dataframe tbody tr th:only-of-type {\n",
              "        vertical-align: middle;\n",
              "    }\n",
              "\n",
              "    .dataframe tbody tr th {\n",
              "        vertical-align: top;\n",
              "    }\n",
              "\n",
              "    .dataframe thead th {\n",
              "        text-align: right;\n",
              "    }\n",
              "</style>\n",
              "<table border=\"1\" class=\"dataframe\">\n",
              "  <thead>\n",
              "    <tr style=\"text-align: right;\">\n",
              "      <th></th>\n",
              "      <th>count</th>\n",
              "    </tr>\n",
              "    <tr>\n",
              "      <th>state</th>\n",
              "      <th></th>\n",
              "    </tr>\n",
              "  </thead>\n",
              "  <tbody>\n",
              "    <tr>\n",
              "      <th>arizona</th>\n",
              "      <td>61</td>\n",
              "    </tr>\n",
              "    <tr>\n",
              "      <th>texas</th>\n",
              "      <td>51</td>\n",
              "    </tr>\n",
              "    <tr>\n",
              "      <th>new jersey</th>\n",
              "      <td>45</td>\n",
              "    </tr>\n",
              "    <tr>\n",
              "      <th>california</th>\n",
              "      <td>27</td>\n",
              "    </tr>\n",
              "    <tr>\n",
              "      <th>georgia</th>\n",
              "      <td>19</td>\n",
              "    </tr>\n",
              "    <tr>\n",
              "      <th>illinois</th>\n",
              "      <td>10</td>\n",
              "    </tr>\n",
              "    <tr>\n",
              "      <th>michigan</th>\n",
              "      <td>9</td>\n",
              "    </tr>\n",
              "    <tr>\n",
              "      <th>pennsylvania</th>\n",
              "      <td>8</td>\n",
              "    </tr>\n",
              "    <tr>\n",
              "      <th>virginia</th>\n",
              "      <td>8</td>\n",
              "    </tr>\n",
              "    <tr>\n",
              "      <th>north carolina</th>\n",
              "      <td>6</td>\n",
              "    </tr>\n",
              "    <tr>\n",
              "      <th>washington</th>\n",
              "      <td>6</td>\n",
              "    </tr>\n",
              "    <tr>\n",
              "      <th>maryland</th>\n",
              "      <td>6</td>\n",
              "    </tr>\n",
              "    <tr>\n",
              "      <th>new york</th>\n",
              "      <td>4</td>\n",
              "    </tr>\n",
              "    <tr>\n",
              "      <th>massachusetts</th>\n",
              "      <td>4</td>\n",
              "    </tr>\n",
              "    <tr>\n",
              "      <th>district of columbia</th>\n",
              "      <td>3</td>\n",
              "    </tr>\n",
              "    <tr>\n",
              "      <th>florida</th>\n",
              "      <td>3</td>\n",
              "    </tr>\n",
              "    <tr>\n",
              "      <th>connecticut</th>\n",
              "      <td>3</td>\n",
              "    </tr>\n",
              "    <tr>\n",
              "      <th>kansas</th>\n",
              "      <td>2</td>\n",
              "    </tr>\n",
              "    <tr>\n",
              "      <th>mississippi</th>\n",
              "      <td>2</td>\n",
              "    </tr>\n",
              "    <tr>\n",
              "      <th>minnesota</th>\n",
              "      <td>2</td>\n",
              "    </tr>\n",
              "    <tr>\n",
              "      <th>ohio</th>\n",
              "      <td>2</td>\n",
              "    </tr>\n",
              "    <tr>\n",
              "      <th>alberta</th>\n",
              "      <td>2</td>\n",
              "    </tr>\n",
              "    <tr>\n",
              "      <th>delaware</th>\n",
              "      <td>1</td>\n",
              "    </tr>\n",
              "    <tr>\n",
              "      <th>ontario</th>\n",
              "      <td>1</td>\n",
              "    </tr>\n",
              "    <tr>\n",
              "      <th>rhode island</th>\n",
              "      <td>1</td>\n",
              "    </tr>\n",
              "    <tr>\n",
              "      <th>colorado</th>\n",
              "      <td>1</td>\n",
              "    </tr>\n",
              "    <tr>\n",
              "      <th>indiana</th>\n",
              "      <td>1</td>\n",
              "    </tr>\n",
              "    <tr>\n",
              "      <th>missouri</th>\n",
              "      <td>1</td>\n",
              "    </tr>\n",
              "    <tr>\n",
              "      <th>kentucky</th>\n",
              "      <td>1</td>\n",
              "    </tr>\n",
              "  </tbody>\n",
              "</table>\n",
              "</div><br><label><b>dtype:</b> int64</label>"
            ]
          },
          "metadata": {},
          "execution_count": 198
        }
      ]
    },
    {
      "cell_type": "code",
      "source": [
        "df.location = df.location.where(df.location != \"quality assurance\", \"seattle\")"
      ],
      "metadata": {
        "id": "JrQYqIUdPCwX"
      },
      "execution_count": null,
      "outputs": []
    },
    {
      "cell_type": "code",
      "source": [
        "df.location = df.location.where(df.location != \"edition\", \"edison\")"
      ],
      "metadata": {
        "id": "9QMYcOxdLDL9"
      },
      "execution_count": null,
      "outputs": []
    },
    {
      "cell_type": "code",
      "source": [
        "df.groupby([\"state\",\"location\"]).location.value_counts()"
      ],
      "metadata": {
        "colab": {
          "base_uri": "https://localhost:8080/",
          "height": 489
        },
        "id": "Q1LzqYhXXHYA",
        "outputId": "7c17f937-a658-44eb-ce5f-95f585e4505e"
      },
      "execution_count": null,
      "outputs": [
        {
          "output_type": "execute_result",
          "data": {
            "text/plain": [
              "state       location        \n",
              "alberta     calgary             2\n",
              "arizona     cave creek          1\n",
              "            chandler            6\n",
              "            desert ridge        1\n",
              "            flagstaff           1\n",
              "                               ..\n",
              "virginia    stafford            2\n",
              "washington  bellevue            1\n",
              "            northeast duvall    1\n",
              "            redmond             1\n",
              "            seattle             3\n",
              "Name: count, Length: 152, dtype: int64"
            ],
            "text/html": [
              "<div>\n",
              "<style scoped>\n",
              "    .dataframe tbody tr th:only-of-type {\n",
              "        vertical-align: middle;\n",
              "    }\n",
              "\n",
              "    .dataframe tbody tr th {\n",
              "        vertical-align: top;\n",
              "    }\n",
              "\n",
              "    .dataframe thead th {\n",
              "        text-align: right;\n",
              "    }\n",
              "</style>\n",
              "<table border=\"1\" class=\"dataframe\">\n",
              "  <thead>\n",
              "    <tr style=\"text-align: right;\">\n",
              "      <th></th>\n",
              "      <th></th>\n",
              "      <th>count</th>\n",
              "    </tr>\n",
              "    <tr>\n",
              "      <th>state</th>\n",
              "      <th>location</th>\n",
              "      <th></th>\n",
              "    </tr>\n",
              "  </thead>\n",
              "  <tbody>\n",
              "    <tr>\n",
              "      <th>alberta</th>\n",
              "      <th>calgary</th>\n",
              "      <td>2</td>\n",
              "    </tr>\n",
              "    <tr>\n",
              "      <th rowspan=\"4\" valign=\"top\">arizona</th>\n",
              "      <th>cave creek</th>\n",
              "      <td>1</td>\n",
              "    </tr>\n",
              "    <tr>\n",
              "      <th>chandler</th>\n",
              "      <td>6</td>\n",
              "    </tr>\n",
              "    <tr>\n",
              "      <th>desert ridge</th>\n",
              "      <td>1</td>\n",
              "    </tr>\n",
              "    <tr>\n",
              "      <th>flagstaff</th>\n",
              "      <td>1</td>\n",
              "    </tr>\n",
              "    <tr>\n",
              "      <th>...</th>\n",
              "      <th>...</th>\n",
              "      <td>...</td>\n",
              "    </tr>\n",
              "    <tr>\n",
              "      <th>virginia</th>\n",
              "      <th>stafford</th>\n",
              "      <td>2</td>\n",
              "    </tr>\n",
              "    <tr>\n",
              "      <th rowspan=\"4\" valign=\"top\">washington</th>\n",
              "      <th>bellevue</th>\n",
              "      <td>1</td>\n",
              "    </tr>\n",
              "    <tr>\n",
              "      <th>northeast duvall</th>\n",
              "      <td>1</td>\n",
              "    </tr>\n",
              "    <tr>\n",
              "      <th>redmond</th>\n",
              "      <td>1</td>\n",
              "    </tr>\n",
              "    <tr>\n",
              "      <th>seattle</th>\n",
              "      <td>3</td>\n",
              "    </tr>\n",
              "  </tbody>\n",
              "</table>\n",
              "<p>152 rows × 1 columns</p>\n",
              "</div><br><label><b>dtype:</b> int64</label>"
            ]
          },
          "metadata": {},
          "execution_count": 201
        }
      ]
    },
    {
      "cell_type": "code",
      "source": [
        "df.rename(columns={'submission date':'dos'},inplace=True)"
      ],
      "metadata": {
        "id": "mmxtarRkP9zL"
      },
      "execution_count": null,
      "outputs": []
    },
    {
      "cell_type": "code",
      "source": [
        "df.dos=pd.to_datetime(df.dos,format='%d-%m-%Y')"
      ],
      "metadata": {
        "id": "ZxLvKYuyQdhx"
      },
      "execution_count": null,
      "outputs": []
    },
    {
      "cell_type": "code",
      "source": [
        "df.dos"
      ],
      "metadata": {
        "colab": {
          "base_uri": "https://localhost:8080/",
          "height": 458
        },
        "id": "W7UX9d4ISznj",
        "outputId": "58b15f40-9faa-4da4-ce1d-0fcd8171ffaf"
      },
      "execution_count": null,
      "outputs": [
        {
          "output_type": "execute_result",
          "data": {
            "text/plain": [
              "0     2023-01-09\n",
              "1     2023-01-13\n",
              "2     2023-01-13\n",
              "3     2023-01-13\n",
              "4     2023-01-16\n",
              "         ...    \n",
              "285   2024-09-12\n",
              "286   2024-09-12\n",
              "287   2024-09-16\n",
              "288   2024-09-17\n",
              "289   2024-09-18\n",
              "Name: dos, Length: 290, dtype: datetime64[ns]"
            ],
            "text/html": [
              "<div>\n",
              "<style scoped>\n",
              "    .dataframe tbody tr th:only-of-type {\n",
              "        vertical-align: middle;\n",
              "    }\n",
              "\n",
              "    .dataframe tbody tr th {\n",
              "        vertical-align: top;\n",
              "    }\n",
              "\n",
              "    .dataframe thead th {\n",
              "        text-align: right;\n",
              "    }\n",
              "</style>\n",
              "<table border=\"1\" class=\"dataframe\">\n",
              "  <thead>\n",
              "    <tr style=\"text-align: right;\">\n",
              "      <th></th>\n",
              "      <th>dos</th>\n",
              "    </tr>\n",
              "  </thead>\n",
              "  <tbody>\n",
              "    <tr>\n",
              "      <th>0</th>\n",
              "      <td>2023-01-09</td>\n",
              "    </tr>\n",
              "    <tr>\n",
              "      <th>1</th>\n",
              "      <td>2023-01-13</td>\n",
              "    </tr>\n",
              "    <tr>\n",
              "      <th>2</th>\n",
              "      <td>2023-01-13</td>\n",
              "    </tr>\n",
              "    <tr>\n",
              "      <th>3</th>\n",
              "      <td>2023-01-13</td>\n",
              "    </tr>\n",
              "    <tr>\n",
              "      <th>4</th>\n",
              "      <td>2023-01-16</td>\n",
              "    </tr>\n",
              "    <tr>\n",
              "      <th>...</th>\n",
              "      <td>...</td>\n",
              "    </tr>\n",
              "    <tr>\n",
              "      <th>285</th>\n",
              "      <td>2024-09-12</td>\n",
              "    </tr>\n",
              "    <tr>\n",
              "      <th>286</th>\n",
              "      <td>2024-09-12</td>\n",
              "    </tr>\n",
              "    <tr>\n",
              "      <th>287</th>\n",
              "      <td>2024-09-16</td>\n",
              "    </tr>\n",
              "    <tr>\n",
              "      <th>288</th>\n",
              "      <td>2024-09-17</td>\n",
              "    </tr>\n",
              "    <tr>\n",
              "      <th>289</th>\n",
              "      <td>2024-09-18</td>\n",
              "    </tr>\n",
              "  </tbody>\n",
              "</table>\n",
              "<p>290 rows × 1 columns</p>\n",
              "</div><br><label><b>dtype:</b> datetime64[ns]</label>"
            ]
          },
          "metadata": {},
          "execution_count": 210
        }
      ]
    },
    {
      "cell_type": "code",
      "source": [
        "df.info()"
      ],
      "metadata": {
        "colab": {
          "base_uri": "https://localhost:8080/"
        },
        "id": "5wExcLQ0QxUA",
        "outputId": "fa35194d-e2ab-42bf-bc18-7037a79d75dd"
      },
      "execution_count": null,
      "outputs": [
        {
          "output_type": "stream",
          "name": "stdout",
          "text": [
            "<class 'pandas.core.frame.DataFrame'>\n",
            "RangeIndex: 290 entries, 0 to 289\n",
            "Data columns (total 9 columns):\n",
            " #   Column      Non-Null Count  Dtype         \n",
            "---  ------      --------------  -----         \n",
            " 0   name        290 non-null    object        \n",
            " 1   contact_no  290 non-null    int64         \n",
            " 2   email_id    290 non-null    object        \n",
            " 3   title       290 non-null    object        \n",
            " 4   visa        289 non-null    object        \n",
            " 5   location    290 non-null    object        \n",
            " 6   state       290 non-null    object        \n",
            " 7   linkedin    256 non-null    object        \n",
            " 8   dos         290 non-null    datetime64[ns]\n",
            "dtypes: datetime64[ns](1), int64(1), object(7)\n",
            "memory usage: 20.5+ KB\n"
          ]
        }
      ]
    },
    {
      "cell_type": "code",
      "source": [
        "df"
      ],
      "metadata": {
        "colab": {
          "base_uri": "https://localhost:8080/",
          "height": 805
        },
        "id": "OLg2D2BHSnJm",
        "outputId": "17c5969b-5047-4f5f-a256-f550d46284f9"
      },
      "execution_count": null,
      "outputs": [
        {
          "output_type": "execute_result",
          "data": {
            "text/plain": [
              "                           name  contact_no                     email_id  \\\n",
              "0    santhosh kumar thiagarajan  7174342466           santoszh@gmail.com   \n",
              "1                   blaise sama  4696615921       blaise.jayin@gmail.com   \n",
              "2            sanjay kumar kalal  8322785209     kalalsanjay001@gmail.com   \n",
              "3         sanjay kumar hadavala  2672344630             shadba@gmail.com   \n",
              "4      mitali shashikant shinde  4087979481    mitali.shinde03@gmail.com   \n",
              "..                          ...         ...                          ...   \n",
              "285         rajyalakshmi nukala  2165072544       nukalarajyam@gmail.com   \n",
              "286      jagjeet singh chandhok  8475058593    jsc.embeddeddev@gmail.com   \n",
              "287                 tanuj goyal  2014920550       tanujgoyal22@gmail.com   \n",
              "288               sumeet narang  4146889587  sumeet.narang1969@gmail.com   \n",
              "289                sheldon reid  8178086084   sheldonanthony28@gmail.com   \n",
              "\n",
              "                                     title    visa     location  \\\n",
              "0                technical project manager     h1b        paoli   \n",
              "1                        platform engineer     usc       dallas   \n",
              "2                           sas programmer     h1b       frisco   \n",
              "3                        portfolio manager     usc      ashburn   \n",
              "4                        portfolio manager     h1b      ashburn   \n",
              "..                                     ...     ...          ...   \n",
              "285                   servicenow developer     h1b      houston   \n",
              "286                      embedded engineer     h1b       dallas   \n",
              "287                          java engineer  h4-ead      phoenix   \n",
              "288  salesforce marketing cloud consultant     h1b  warrenville   \n",
              "289  salesforce marketing cloud consultant     NaN    charlotte   \n",
              "\n",
              "              state                                           linkedin  \\\n",
              "0      pennsylvania               https://www.linkedin.com/in/santoszh   \n",
              "1             texas           https://www.linkedin.com/in/blaise-sama/   \n",
              "2             texas  https://www.linkedin.com/in/sanjay-kalal-50678...   \n",
              "3          virginia  https://www.linkedin.com/in/sanjay-hadavala-44...   \n",
              "4          virginia  https://www.linkedin.com/in/mitali-s/details/e...   \n",
              "..              ...                                                ...   \n",
              "285           texas                                                NaN   \n",
              "286           texas  https://www.linkedin.com/in/jagjeet-singh-chan...   \n",
              "287         arizona  https://www.linkedin.com/in/tanuj-goyal-03804716/   \n",
              "288        illinois  https://www.linkedin.com/in/sumeet-narang-265b...   \n",
              "289  north carolina   https://www.linkedin.com/in/sheldon-r-b51aba207/   \n",
              "\n",
              "            dos  \n",
              "0    09-01-2023  \n",
              "1    13-01-2023  \n",
              "2    13-01-2023  \n",
              "3    13-01-2023  \n",
              "4    16-01-2023  \n",
              "..          ...  \n",
              "285  12-09-2024  \n",
              "286  12-09-2024  \n",
              "287  16-09-2024  \n",
              "288  17-09-2024  \n",
              "289  18-09-2024  \n",
              "\n",
              "[290 rows x 9 columns]"
            ],
            "text/html": [
              "\n",
              "  <div id=\"df-5162a690-de70-474d-a17c-8190896087c9\" class=\"colab-df-container\">\n",
              "    <div>\n",
              "<style scoped>\n",
              "    .dataframe tbody tr th:only-of-type {\n",
              "        vertical-align: middle;\n",
              "    }\n",
              "\n",
              "    .dataframe tbody tr th {\n",
              "        vertical-align: top;\n",
              "    }\n",
              "\n",
              "    .dataframe thead th {\n",
              "        text-align: right;\n",
              "    }\n",
              "</style>\n",
              "<table border=\"1\" class=\"dataframe\">\n",
              "  <thead>\n",
              "    <tr style=\"text-align: right;\">\n",
              "      <th></th>\n",
              "      <th>name</th>\n",
              "      <th>contact_no</th>\n",
              "      <th>email_id</th>\n",
              "      <th>title</th>\n",
              "      <th>visa</th>\n",
              "      <th>location</th>\n",
              "      <th>state</th>\n",
              "      <th>linkedin</th>\n",
              "      <th>dos</th>\n",
              "    </tr>\n",
              "  </thead>\n",
              "  <tbody>\n",
              "    <tr>\n",
              "      <th>0</th>\n",
              "      <td>santhosh kumar thiagarajan</td>\n",
              "      <td>7174342466</td>\n",
              "      <td>santoszh@gmail.com</td>\n",
              "      <td>technical project manager</td>\n",
              "      <td>h1b</td>\n",
              "      <td>paoli</td>\n",
              "      <td>pennsylvania</td>\n",
              "      <td>https://www.linkedin.com/in/santoszh</td>\n",
              "      <td>09-01-2023</td>\n",
              "    </tr>\n",
              "    <tr>\n",
              "      <th>1</th>\n",
              "      <td>blaise sama</td>\n",
              "      <td>4696615921</td>\n",
              "      <td>blaise.jayin@gmail.com</td>\n",
              "      <td>platform engineer</td>\n",
              "      <td>usc</td>\n",
              "      <td>dallas</td>\n",
              "      <td>texas</td>\n",
              "      <td>https://www.linkedin.com/in/blaise-sama/</td>\n",
              "      <td>13-01-2023</td>\n",
              "    </tr>\n",
              "    <tr>\n",
              "      <th>2</th>\n",
              "      <td>sanjay kumar kalal</td>\n",
              "      <td>8322785209</td>\n",
              "      <td>kalalsanjay001@gmail.com</td>\n",
              "      <td>sas programmer</td>\n",
              "      <td>h1b</td>\n",
              "      <td>frisco</td>\n",
              "      <td>texas</td>\n",
              "      <td>https://www.linkedin.com/in/sanjay-kalal-50678...</td>\n",
              "      <td>13-01-2023</td>\n",
              "    </tr>\n",
              "    <tr>\n",
              "      <th>3</th>\n",
              "      <td>sanjay kumar hadavala</td>\n",
              "      <td>2672344630</td>\n",
              "      <td>shadba@gmail.com</td>\n",
              "      <td>portfolio manager</td>\n",
              "      <td>usc</td>\n",
              "      <td>ashburn</td>\n",
              "      <td>virginia</td>\n",
              "      <td>https://www.linkedin.com/in/sanjay-hadavala-44...</td>\n",
              "      <td>13-01-2023</td>\n",
              "    </tr>\n",
              "    <tr>\n",
              "      <th>4</th>\n",
              "      <td>mitali shashikant shinde</td>\n",
              "      <td>4087979481</td>\n",
              "      <td>mitali.shinde03@gmail.com</td>\n",
              "      <td>portfolio manager</td>\n",
              "      <td>h1b</td>\n",
              "      <td>ashburn</td>\n",
              "      <td>virginia</td>\n",
              "      <td>https://www.linkedin.com/in/mitali-s/details/e...</td>\n",
              "      <td>16-01-2023</td>\n",
              "    </tr>\n",
              "    <tr>\n",
              "      <th>...</th>\n",
              "      <td>...</td>\n",
              "      <td>...</td>\n",
              "      <td>...</td>\n",
              "      <td>...</td>\n",
              "      <td>...</td>\n",
              "      <td>...</td>\n",
              "      <td>...</td>\n",
              "      <td>...</td>\n",
              "      <td>...</td>\n",
              "    </tr>\n",
              "    <tr>\n",
              "      <th>285</th>\n",
              "      <td>rajyalakshmi nukala</td>\n",
              "      <td>2165072544</td>\n",
              "      <td>nukalarajyam@gmail.com</td>\n",
              "      <td>servicenow developer</td>\n",
              "      <td>h1b</td>\n",
              "      <td>houston</td>\n",
              "      <td>texas</td>\n",
              "      <td>NaN</td>\n",
              "      <td>12-09-2024</td>\n",
              "    </tr>\n",
              "    <tr>\n",
              "      <th>286</th>\n",
              "      <td>jagjeet singh chandhok</td>\n",
              "      <td>8475058593</td>\n",
              "      <td>jsc.embeddeddev@gmail.com</td>\n",
              "      <td>embedded engineer</td>\n",
              "      <td>h1b</td>\n",
              "      <td>dallas</td>\n",
              "      <td>texas</td>\n",
              "      <td>https://www.linkedin.com/in/jagjeet-singh-chan...</td>\n",
              "      <td>12-09-2024</td>\n",
              "    </tr>\n",
              "    <tr>\n",
              "      <th>287</th>\n",
              "      <td>tanuj goyal</td>\n",
              "      <td>2014920550</td>\n",
              "      <td>tanujgoyal22@gmail.com</td>\n",
              "      <td>java engineer</td>\n",
              "      <td>h4-ead</td>\n",
              "      <td>phoenix</td>\n",
              "      <td>arizona</td>\n",
              "      <td>https://www.linkedin.com/in/tanuj-goyal-03804716/</td>\n",
              "      <td>16-09-2024</td>\n",
              "    </tr>\n",
              "    <tr>\n",
              "      <th>288</th>\n",
              "      <td>sumeet narang</td>\n",
              "      <td>4146889587</td>\n",
              "      <td>sumeet.narang1969@gmail.com</td>\n",
              "      <td>salesforce marketing cloud consultant</td>\n",
              "      <td>h1b</td>\n",
              "      <td>warrenville</td>\n",
              "      <td>illinois</td>\n",
              "      <td>https://www.linkedin.com/in/sumeet-narang-265b...</td>\n",
              "      <td>17-09-2024</td>\n",
              "    </tr>\n",
              "    <tr>\n",
              "      <th>289</th>\n",
              "      <td>sheldon reid</td>\n",
              "      <td>8178086084</td>\n",
              "      <td>sheldonanthony28@gmail.com</td>\n",
              "      <td>salesforce marketing cloud consultant</td>\n",
              "      <td>NaN</td>\n",
              "      <td>charlotte</td>\n",
              "      <td>north carolina</td>\n",
              "      <td>https://www.linkedin.com/in/sheldon-r-b51aba207/</td>\n",
              "      <td>18-09-2024</td>\n",
              "    </tr>\n",
              "  </tbody>\n",
              "</table>\n",
              "<p>290 rows × 9 columns</p>\n",
              "</div>\n",
              "    <div class=\"colab-df-buttons\">\n",
              "\n",
              "  <div class=\"colab-df-container\">\n",
              "    <button class=\"colab-df-convert\" onclick=\"convertToInteractive('df-5162a690-de70-474d-a17c-8190896087c9')\"\n",
              "            title=\"Convert this dataframe to an interactive table.\"\n",
              "            style=\"display:none;\">\n",
              "\n",
              "  <svg xmlns=\"http://www.w3.org/2000/svg\" height=\"24px\" viewBox=\"0 -960 960 960\">\n",
              "    <path d=\"M120-120v-720h720v720H120Zm60-500h600v-160H180v160Zm220 220h160v-160H400v160Zm0 220h160v-160H400v160ZM180-400h160v-160H180v160Zm440 0h160v-160H620v160ZM180-180h160v-160H180v160Zm440 0h160v-160H620v160Z\"/>\n",
              "  </svg>\n",
              "    </button>\n",
              "\n",
              "  <style>\n",
              "    .colab-df-container {\n",
              "      display:flex;\n",
              "      gap: 12px;\n",
              "    }\n",
              "\n",
              "    .colab-df-convert {\n",
              "      background-color: #E8F0FE;\n",
              "      border: none;\n",
              "      border-radius: 50%;\n",
              "      cursor: pointer;\n",
              "      display: none;\n",
              "      fill: #1967D2;\n",
              "      height: 32px;\n",
              "      padding: 0 0 0 0;\n",
              "      width: 32px;\n",
              "    }\n",
              "\n",
              "    .colab-df-convert:hover {\n",
              "      background-color: #E2EBFA;\n",
              "      box-shadow: 0px 1px 2px rgba(60, 64, 67, 0.3), 0px 1px 3px 1px rgba(60, 64, 67, 0.15);\n",
              "      fill: #174EA6;\n",
              "    }\n",
              "\n",
              "    .colab-df-buttons div {\n",
              "      margin-bottom: 4px;\n",
              "    }\n",
              "\n",
              "    [theme=dark] .colab-df-convert {\n",
              "      background-color: #3B4455;\n",
              "      fill: #D2E3FC;\n",
              "    }\n",
              "\n",
              "    [theme=dark] .colab-df-convert:hover {\n",
              "      background-color: #434B5C;\n",
              "      box-shadow: 0px 1px 3px 1px rgba(0, 0, 0, 0.15);\n",
              "      filter: drop-shadow(0px 1px 2px rgba(0, 0, 0, 0.3));\n",
              "      fill: #FFFFFF;\n",
              "    }\n",
              "  </style>\n",
              "\n",
              "    <script>\n",
              "      const buttonEl =\n",
              "        document.querySelector('#df-5162a690-de70-474d-a17c-8190896087c9 button.colab-df-convert');\n",
              "      buttonEl.style.display =\n",
              "        google.colab.kernel.accessAllowed ? 'block' : 'none';\n",
              "\n",
              "      async function convertToInteractive(key) {\n",
              "        const element = document.querySelector('#df-5162a690-de70-474d-a17c-8190896087c9');\n",
              "        const dataTable =\n",
              "          await google.colab.kernel.invokeFunction('convertToInteractive',\n",
              "                                                    [key], {});\n",
              "        if (!dataTable) return;\n",
              "\n",
              "        const docLinkHtml = 'Like what you see? Visit the ' +\n",
              "          '<a target=\"_blank\" href=https://colab.research.google.com/notebooks/data_table.ipynb>data table notebook</a>'\n",
              "          + ' to learn more about interactive tables.';\n",
              "        element.innerHTML = '';\n",
              "        dataTable['output_type'] = 'display_data';\n",
              "        await google.colab.output.renderOutput(dataTable, element);\n",
              "        const docLink = document.createElement('div');\n",
              "        docLink.innerHTML = docLinkHtml;\n",
              "        element.appendChild(docLink);\n",
              "      }\n",
              "    </script>\n",
              "  </div>\n",
              "\n",
              "\n",
              "<div id=\"df-0631421f-d8e1-4077-8203-097875b9bde2\">\n",
              "  <button class=\"colab-df-quickchart\" onclick=\"quickchart('df-0631421f-d8e1-4077-8203-097875b9bde2')\"\n",
              "            title=\"Suggest charts\"\n",
              "            style=\"display:none;\">\n",
              "\n",
              "<svg xmlns=\"http://www.w3.org/2000/svg\" height=\"24px\"viewBox=\"0 0 24 24\"\n",
              "     width=\"24px\">\n",
              "    <g>\n",
              "        <path d=\"M19 3H5c-1.1 0-2 .9-2 2v14c0 1.1.9 2 2 2h14c1.1 0 2-.9 2-2V5c0-1.1-.9-2-2-2zM9 17H7v-7h2v7zm4 0h-2V7h2v10zm4 0h-2v-4h2v4z\"/>\n",
              "    </g>\n",
              "</svg>\n",
              "  </button>\n",
              "\n",
              "<style>\n",
              "  .colab-df-quickchart {\n",
              "      --bg-color: #E8F0FE;\n",
              "      --fill-color: #1967D2;\n",
              "      --hover-bg-color: #E2EBFA;\n",
              "      --hover-fill-color: #174EA6;\n",
              "      --disabled-fill-color: #AAA;\n",
              "      --disabled-bg-color: #DDD;\n",
              "  }\n",
              "\n",
              "  [theme=dark] .colab-df-quickchart {\n",
              "      --bg-color: #3B4455;\n",
              "      --fill-color: #D2E3FC;\n",
              "      --hover-bg-color: #434B5C;\n",
              "      --hover-fill-color: #FFFFFF;\n",
              "      --disabled-bg-color: #3B4455;\n",
              "      --disabled-fill-color: #666;\n",
              "  }\n",
              "\n",
              "  .colab-df-quickchart {\n",
              "    background-color: var(--bg-color);\n",
              "    border: none;\n",
              "    border-radius: 50%;\n",
              "    cursor: pointer;\n",
              "    display: none;\n",
              "    fill: var(--fill-color);\n",
              "    height: 32px;\n",
              "    padding: 0;\n",
              "    width: 32px;\n",
              "  }\n",
              "\n",
              "  .colab-df-quickchart:hover {\n",
              "    background-color: var(--hover-bg-color);\n",
              "    box-shadow: 0 1px 2px rgba(60, 64, 67, 0.3), 0 1px 3px 1px rgba(60, 64, 67, 0.15);\n",
              "    fill: var(--button-hover-fill-color);\n",
              "  }\n",
              "\n",
              "  .colab-df-quickchart-complete:disabled,\n",
              "  .colab-df-quickchart-complete:disabled:hover {\n",
              "    background-color: var(--disabled-bg-color);\n",
              "    fill: var(--disabled-fill-color);\n",
              "    box-shadow: none;\n",
              "  }\n",
              "\n",
              "  .colab-df-spinner {\n",
              "    border: 2px solid var(--fill-color);\n",
              "    border-color: transparent;\n",
              "    border-bottom-color: var(--fill-color);\n",
              "    animation:\n",
              "      spin 1s steps(1) infinite;\n",
              "  }\n",
              "\n",
              "  @keyframes spin {\n",
              "    0% {\n",
              "      border-color: transparent;\n",
              "      border-bottom-color: var(--fill-color);\n",
              "      border-left-color: var(--fill-color);\n",
              "    }\n",
              "    20% {\n",
              "      border-color: transparent;\n",
              "      border-left-color: var(--fill-color);\n",
              "      border-top-color: var(--fill-color);\n",
              "    }\n",
              "    30% {\n",
              "      border-color: transparent;\n",
              "      border-left-color: var(--fill-color);\n",
              "      border-top-color: var(--fill-color);\n",
              "      border-right-color: var(--fill-color);\n",
              "    }\n",
              "    40% {\n",
              "      border-color: transparent;\n",
              "      border-right-color: var(--fill-color);\n",
              "      border-top-color: var(--fill-color);\n",
              "    }\n",
              "    60% {\n",
              "      border-color: transparent;\n",
              "      border-right-color: var(--fill-color);\n",
              "    }\n",
              "    80% {\n",
              "      border-color: transparent;\n",
              "      border-right-color: var(--fill-color);\n",
              "      border-bottom-color: var(--fill-color);\n",
              "    }\n",
              "    90% {\n",
              "      border-color: transparent;\n",
              "      border-bottom-color: var(--fill-color);\n",
              "    }\n",
              "  }\n",
              "</style>\n",
              "\n",
              "  <script>\n",
              "    async function quickchart(key) {\n",
              "      const quickchartButtonEl =\n",
              "        document.querySelector('#' + key + ' button');\n",
              "      quickchartButtonEl.disabled = true;  // To prevent multiple clicks.\n",
              "      quickchartButtonEl.classList.add('colab-df-spinner');\n",
              "      try {\n",
              "        const charts = await google.colab.kernel.invokeFunction(\n",
              "            'suggestCharts', [key], {});\n",
              "      } catch (error) {\n",
              "        console.error('Error during call to suggestCharts:', error);\n",
              "      }\n",
              "      quickchartButtonEl.classList.remove('colab-df-spinner');\n",
              "      quickchartButtonEl.classList.add('colab-df-quickchart-complete');\n",
              "    }\n",
              "    (() => {\n",
              "      let quickchartButtonEl =\n",
              "        document.querySelector('#df-0631421f-d8e1-4077-8203-097875b9bde2 button');\n",
              "      quickchartButtonEl.style.display =\n",
              "        google.colab.kernel.accessAllowed ? 'block' : 'none';\n",
              "    })();\n",
              "  </script>\n",
              "</div>\n",
              "\n",
              "  <div id=\"id_384efc7a-378c-489a-8c16-bdec238ffcba\">\n",
              "    <style>\n",
              "      .colab-df-generate {\n",
              "        background-color: #E8F0FE;\n",
              "        border: none;\n",
              "        border-radius: 50%;\n",
              "        cursor: pointer;\n",
              "        display: none;\n",
              "        fill: #1967D2;\n",
              "        height: 32px;\n",
              "        padding: 0 0 0 0;\n",
              "        width: 32px;\n",
              "      }\n",
              "\n",
              "      .colab-df-generate:hover {\n",
              "        background-color: #E2EBFA;\n",
              "        box-shadow: 0px 1px 2px rgba(60, 64, 67, 0.3), 0px 1px 3px 1px rgba(60, 64, 67, 0.15);\n",
              "        fill: #174EA6;\n",
              "      }\n",
              "\n",
              "      [theme=dark] .colab-df-generate {\n",
              "        background-color: #3B4455;\n",
              "        fill: #D2E3FC;\n",
              "      }\n",
              "\n",
              "      [theme=dark] .colab-df-generate:hover {\n",
              "        background-color: #434B5C;\n",
              "        box-shadow: 0px 1px 3px 1px rgba(0, 0, 0, 0.15);\n",
              "        filter: drop-shadow(0px 1px 2px rgba(0, 0, 0, 0.3));\n",
              "        fill: #FFFFFF;\n",
              "      }\n",
              "    </style>\n",
              "    <button class=\"colab-df-generate\" onclick=\"generateWithVariable('df')\"\n",
              "            title=\"Generate code using this dataframe.\"\n",
              "            style=\"display:none;\">\n",
              "\n",
              "  <svg xmlns=\"http://www.w3.org/2000/svg\" height=\"24px\"viewBox=\"0 0 24 24\"\n",
              "       width=\"24px\">\n",
              "    <path d=\"M7,19H8.4L18.45,9,17,7.55,7,17.6ZM5,21V16.75L18.45,3.32a2,2,0,0,1,2.83,0l1.4,1.43a1.91,1.91,0,0,1,.58,1.4,1.91,1.91,0,0,1-.58,1.4L9.25,21ZM18.45,9,17,7.55Zm-12,3A5.31,5.31,0,0,0,4.9,8.1,5.31,5.31,0,0,0,1,6.5,5.31,5.31,0,0,0,4.9,4.9,5.31,5.31,0,0,0,6.5,1,5.31,5.31,0,0,0,8.1,4.9,5.31,5.31,0,0,0,12,6.5,5.46,5.46,0,0,0,6.5,12Z\"/>\n",
              "  </svg>\n",
              "    </button>\n",
              "    <script>\n",
              "      (() => {\n",
              "      const buttonEl =\n",
              "        document.querySelector('#id_384efc7a-378c-489a-8c16-bdec238ffcba button.colab-df-generate');\n",
              "      buttonEl.style.display =\n",
              "        google.colab.kernel.accessAllowed ? 'block' : 'none';\n",
              "\n",
              "      buttonEl.onclick = () => {\n",
              "        google.colab.notebook.generateWithVariable('df');\n",
              "      }\n",
              "      })();\n",
              "    </script>\n",
              "  </div>\n",
              "\n",
              "    </div>\n",
              "  </div>\n"
            ],
            "application/vnd.google.colaboratory.intrinsic+json": {
              "type": "dataframe",
              "variable_name": "df",
              "summary": "{\n  \"name\": \"df\",\n  \"rows\": 290,\n  \"fields\": [\n    {\n      \"column\": \"name\",\n      \"properties\": {\n        \"dtype\": \"string\",\n        \"num_unique_values\": 283,\n        \"samples\": [\n          \"bharath sangasani\",\n          \"satya sree madhava challa\",\n          \"ajay ganapa\"\n        ],\n        \"semantic_type\": \"\",\n        \"description\": \"\"\n      }\n    },\n    {\n      \"column\": \"contact_no\",\n      \"properties\": {\n        \"dtype\": \"number\",\n        \"std\": 2233192580,\n        \"min\": 2012387775,\n        \"max\": 9803701406,\n        \"num_unique_values\": 275,\n        \"samples\": [\n          9452080282,\n          8608490886,\n          9254007909\n        ],\n        \"semantic_type\": \"\",\n        \"description\": \"\"\n      }\n    },\n    {\n      \"column\": \"email_id\",\n      \"properties\": {\n        \"dtype\": \"string\",\n        \"num_unique_values\": 282,\n        \"samples\": [\n          \"derekslider@yahoo.com\",\n          \"luisemartinez2009@gmail.com\",\n          \"philliprakestraw@gmail.com\"\n        ],\n        \"semantic_type\": \"\",\n        \"description\": \"\"\n      }\n    },\n    {\n      \"column\": \"title\",\n      \"properties\": {\n        \"dtype\": \"string\",\n        \"num_unique_values\": 175,\n        \"samples\": [\n          \"supply chain/kinaxis solution architect\",\n          \"techno-functional product owner\",\n          \"salesforce architect\"\n        ],\n        \"semantic_type\": \"\",\n        \"description\": \"\"\n      }\n    },\n    {\n      \"column\": \"visa\",\n      \"properties\": {\n        \"dtype\": \"category\",\n        \"num_unique_values\": 10,\n        \"samples\": [\n          \"cpt\",\n          \"usc\",\n          \"tn\"\n        ],\n        \"semantic_type\": \"\",\n        \"description\": \"\"\n      }\n    },\n    {\n      \"column\": \"location\",\n      \"properties\": {\n        \"dtype\": \"string\",\n        \"num_unique_values\": 151,\n        \"samples\": [\n          \"wayne\",\n          \"stafford\",\n          \"newnan\"\n        ],\n        \"semantic_type\": \"\",\n        \"description\": \"\"\n      }\n    },\n    {\n      \"column\": \"state\",\n      \"properties\": {\n        \"dtype\": \"category\",\n        \"num_unique_values\": 29,\n        \"samples\": [\n          \"ontario\",\n          \"illinois\",\n          \"north carolina\"\n        ],\n        \"semantic_type\": \"\",\n        \"description\": \"\"\n      }\n    },\n    {\n      \"column\": \"linkedin\",\n      \"properties\": {\n        \"dtype\": \"string\",\n        \"num_unique_values\": 243,\n        \"samples\": [\n          \"https://www.linkedin.com/in/rakesh-ganga-30239542/\",\n          \"https://www.linkedin.com/in/vignesh-sivaraj-79707313/\",\n          \"https://www.linkedin.com/in/billkelley/\"\n        ],\n        \"semantic_type\": \"\",\n        \"description\": \"\"\n      }\n    },\n    {\n      \"column\": \"dos\",\n      \"properties\": {\n        \"dtype\": \"string\",\n        \"num_unique_values\": 196,\n        \"samples\": [\n          \"05-04-2024\",\n          \"20-12-2023\",\n          \"14-02-2023\"\n        ],\n        \"semantic_type\": \"\",\n        \"description\": \"\"\n      }\n    }\n  ]\n}"
            }
          },
          "metadata": {},
          "execution_count": 205
        }
      ]
    },
    {
      "cell_type": "code",
      "source": [
        "df.to_csv('submission_details.csv', index=False)\n"
      ],
      "metadata": {
        "id": "v_eaAlrcSIQ7"
      },
      "execution_count": null,
      "outputs": []
    },
    {
      "cell_type": "code",
      "source": [],
      "metadata": {
        "id": "CiuUVAioTXaZ"
      },
      "execution_count": null,
      "outputs": []
    }
  ]
}